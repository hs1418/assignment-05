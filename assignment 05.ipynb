{
 "cells": [
  {
   "cell_type": "markdown",
   "id": "6f4c1dbe-3dca-421a-bcbe-9b4af00b6877",
   "metadata": {},
   "source": [
    "# Assignment 05"
   ]
  },
  {
   "cell_type": "markdown",
   "id": "c9a4e77a-f771-4856-911c-cce9931b6399",
   "metadata": {},
   "source": [
    "## 과제 3:heap.py 를 이용한 생일 힙 정렬"
   ]
  },
  {
   "cell_type": "code",
   "execution_count": 1,
   "id": "68bcf37d-2ad8-421d-a419-774b7d5e0d81",
   "metadata": {},
   "outputs": [
    {
     "name": "stdout",
     "output_type": "stream",
     "text": [
      "신수민 2005-12-30\n",
      "이서영 2005-12-25\n",
      "강민주 2005-12-14\n",
      "김민경 2005-12-02\n",
      "이서영 2005-11-12\n",
      "배시은 2005-11-02\n",
      "김여원 2005-10-31\n",
      "이서진 2005-10-28\n",
      "서홍빈 2005-10-24\n",
      "김예빈 2005-10-19\n"
     ]
    }
   ],
   "source": [
    "from datetime import datetime\n",
    "import pandas as pd\n",
    "\n",
    "df=pd.read_csv(r\"C:\\Users\\user\\OneDrive\\바탕 화면\\희서\\성신여대\\3학년\\자료구조\\birthday.csv\")\n",
    "# CSV 파일 읽기\n",
    "\n",
    "df['birthday'] = pd.to_datetime(df['생년월일8자리(예.20040101)'], format='%Y%m%d', errors='coerce')\n",
    "df = df.dropna(subset=['birthday'])  # 날짜 오류 제거\n",
    "\n",
    "df.head()\n",
    "# 힙 코드 정의 (heap.py 기반 수정 버전)\n",
    "class Heap:\n",
    "    def __init__(self, args):\n",
    "        if len(args) != 0:\n",
    "            self.__A = args[0]\n",
    "        else:\n",
    "            self.__A = []\n",
    "\n",
    "    def insert(self, x):\n",
    "        self.__A.append(x)\n",
    "        self.__percolateUp(len(self.__A) - 1)\n",
    "\n",
    "    def __percolateUp(self, i: int):\n",
    "        parent = (i - 1) // 2\n",
    "        if i > 0 and self.__A[i][1] > self.__A[parent][1]:\n",
    "            self.__A[i], self.__A[parent] = self.__A[parent], self.__A[i]\n",
    "            self.__percolateUp(parent)\n",
    "\n",
    "    def delteMax(self):\n",
    "        if not self.isEmpty():\n",
    "            max = self.__A[0]\n",
    "            self.__A[0] = self.__A.pop()\n",
    "            self.__percolateDown(0)\n",
    "            return max\n",
    "        else:\n",
    "            return None\n",
    "\n",
    "    def __percolateDown(self, i: int):\n",
    "        child = 2 * i + 1\n",
    "        right = 2 * i + 2\n",
    "        if child <= len(self.__A) - 1:\n",
    "            if right <= len(self.__A) - 1 and self.__A[child][1] < self.__A[right][1]:\n",
    "                child = right\n",
    "            if self.__A[i][1] < self.__A[child][1]:\n",
    "                self.__A[i], self.__A[child] = self.__A[child], self.__A[i]\n",
    "                self.__percolateDown(child)\n",
    "\n",
    "    def isEmpty(self) -> bool:\n",
    "        return len(self.__A) == 0\n",
    "\n",
    "    def size(self) -> int:\n",
    "        return len(self.__A)\n",
    "\n",
    "# 힙에 생일 삽입\n",
    "heap = Heap([[]])\n",
    "for _, row in df.iterrows():\n",
    "    heap.insert((row['이름'], row['birthday']))\n",
    "\n",
    "# 생일이 느린 순서로 10명 출력\n",
    "for _ in range(min(10, heap.size())):\n",
    "    name, birth = heap.delteMax()\n",
    "    print(name, birth.strftime('%Y-%m-%d'))"
   ]
  },
  {
   "cell_type": "markdown",
   "id": "ad51b7d3-6c18-48c5-9903-237936f5cf74",
   "metadata": {},
   "source": [
    "## 과제 4: circularDoublyLinkedList.py 를 이용한 조원 필터링"
   ]
  },
  {
   "cell_type": "code",
   "execution_count": 2,
   "id": "2498941f-b41c-460d-97e1-60cd79fc1e12",
   "metadata": {},
   "outputs": [
    {
     "name": "stdout",
     "output_type": "stream",
     "text": [
      "강윤서 2004-11-08\n",
      "김나영 2005-10-05\n",
      "김명신 2005-10-02\n",
      "김지우 2004-07-22\n",
      "신수민 2005-12-30\n",
      "윤여빈 2003-02-06\n",
      "이예린 2004-03-16\n",
      "이지후 2003-05-13\n",
      "이희서 2004-04-15\n"
     ]
    }
   ],
   "source": [
    "class ListNode:\n",
    "    def __init__(self, item, next=None):\n",
    "        self.item = item\n",
    "        self.next = next\n",
    "\n",
    "class CircularLinkedList:\n",
    "    def __init__(self):\n",
    "        self.__tail = ListNode(\"dummy\", None)\n",
    "        self.__tail.next = self.__tail\n",
    "        self.__numItems = 0\n",
    "\n",
    "    def append(self, newItem) -> None:\n",
    "        newNode = ListNode(newItem, self.__tail.next)\n",
    "        self.__tail.next = newNode\n",
    "        self.__tail = newNode\n",
    "        self.__numItems += 1\n",
    "\n",
    "    def __iter__(self):\n",
    "        return CircularLinkedListIterator(self)\n",
    "\n",
    "    def getNode(self, i: int) -> ListNode:\n",
    "        curr = self.__tail.next\n",
    "        for index in range(i + 1):\n",
    "            curr = curr.next\n",
    "        return curr\n",
    "\n",
    "class CircularLinkedListIterator:\n",
    "    def __init__(self, alist):\n",
    "        self.__head = alist.getNode(-1)\n",
    "        self.iterPosition = self.__head.next\n",
    "\n",
    "    def __next__(self):\n",
    "        if self.iterPosition == self.__head:\n",
    "            raise StopIteration\n",
    "        else:\n",
    "            item = self.iterPosition.item\n",
    "            self.iterPosition = self.iterPosition.next\n",
    "            return item\n",
    "\n",
    "    def __iter__(self):\n",
    "        return self\n",
    "\n",
    "# 같은 조 친구들 이름\n",
    "group_names = {\"이희서\", \"이채연\", \"이지후\", \"김지우\", \"신수민\", \"강윤서\", \"윤여빈\", \"이예린\", \"김나영\", \"김명신\"}\n",
    "\n",
    "# 리스트에 추가\n",
    "cdll = CircularLinkedList()\n",
    "for _, row in df.iterrows():\n",
    "    if row['이름'] in group_names:\n",
    "        cdll.append((row['이름'], row['birthday'].strftime('%Y-%m-%d')))\n",
    "\n",
    "# 출력\n",
    "for item in cdll:\n",
    "    print(item[0], item[1])"
   ]
  },
  {
   "cell_type": "markdown",
   "id": "17236dca-ab89-474d-a42a-867c6fbc01ba",
   "metadata": {},
   "source": [
    "## 과제 6: 교재 8장 우선 순위 큐 연습 문제"
   ]
  },
  {
   "cell_type": "markdown",
   "id": "c96811b2-19e6-439d-bbc0-edb98e0b0013",
   "metadata": {},
   "source": [
    "### 연습 문제 01\n",
    "가능합니다. 최대 힙은 부모 >= 자식만 만족하면 되므로, 루트보다 더 깊은 노드가 루트보다 큰 값을 가져도 힙 조건은 만족할 수 없습니다."
   ]
  },
  {
   "cell_type": "markdown",
   "id": "ef211d27-d2bf-45f0-bdbf-f5187ee2880b",
   "metadata": {},
   "source": [
    "### 연습 문제 02\n",
    "A[0]은 항상 가장 큰 값입니다. A[n-1]은 항상 가장 작은 값은 아닙니다. 리프 노드 중 하나일 뿐입니다. "
   ]
  },
  {
   "cell_type": "markdown",
   "id": "8ad37447-8212-4a0b-9771-46aeaa83da8d",
   "metadata": {},
   "source": [
    "### 연습 문제 03\n",
    "리프 노드는 스며내리기 필요 없습니다. 리프 노드 수는 floor(n/2)부터 n-1까지로 그 수는 약 n/2개 입니다."
   ]
  },
  {
   "cell_type": "markdown",
   "id": "304b2d32-e822-4edb-b1bf-11ee62978987",
   "metadata": {},
   "source": [
    "### 연습 문제 04\n",
    " Θ(log n)  -> 힙의 높이 만큼 비교 및 교환이 발생하기 때문입니다."
   ]
  },
  {
   "cell_type": "markdown",
   "id": "fb188103-7795-4c85-944d-9c7a17918eaf",
   "metadata": {},
   "source": [
    "### 연습 문제 05\n",
    "마지막 원소를 삭제하는 건 매우 간단한 작업입니다. 힙은 일반적으로 배열로 구현되고, 마지막 원소는 배열의 가장 끝 인덱스 A[n-1]입니다. 배열에서 마지막 원소를 제거하는 것은 시간 복잡도 O(1)의 작업입니다."
   ]
  },
  {
   "cell_type": "markdown",
   "id": "0bcf5425-2367-4a59-90e7-9fd77633544e",
   "metadata": {},
   "source": [
    "### 연습 문제 06\n",
    "위에서부터 스며올리기 방식으로도 힙을 만들 수는 있습니다.\n",
    "하지만 아래에서부터 스며내리기 방식이 더 효율적입니다. \n",
    "점근적 시간 복잡도 기준으로: 위에서부터:O(nlogn)이고 아래서부터 O(n)이므로 아래에서부터가 더 효율적입니다. "
   ]
  },
  {
   "cell_type": "markdown",
   "id": "3d37a9b8-4a17-485f-a6e7-3fe799de980f",
   "metadata": {},
   "source": [
    "### 연습 문제 07\n",
    "스며올리기를 사용해야합니다. "
   ]
  },
  {
   "cell_type": "code",
   "execution_count": null,
   "id": "afe166f3-9864-4d1c-b58e-15b8d60c41ff",
   "metadata": {},
   "outputs": [],
   "source": [
    "def sift_up(heap, i):\n",
    "    while i > 0:\n",
    "        parent = (i - 1) // 2\n",
    "        if heap[i] > heap[parent]:\n",
    "            heap[i], heap[parent] = heap[parent], heap[i]\n",
    "            i = parent\n",
    "        else:\n",
    "            break"
   ]
  },
  {
   "cell_type": "markdown",
   "id": "93787e67-74d0-4e75-9c3e-bbec3f3732ae",
   "metadata": {},
   "source": [
    "## LeetCode 703.Kth Largest Element in Stream "
   ]
  },
  {
   "cell_type": "code",
   "execution_count": 3,
   "id": "ee3834a9-e04f-4079-947e-cdcd1d1e9653",
   "metadata": {},
   "outputs": [
    {
     "name": "stdout",
     "output_type": "stream",
     "text": [
      "4\n",
      "5\n",
      "5\n",
      "8\n",
      "8\n"
     ]
    }
   ],
   "source": [
    "import heapq\n",
    "\n",
    "class KthLargest:\n",
    "\n",
    "    def __init__(self, k: int, nums: list[int]):\n",
    "        self.k = k\n",
    "        self.min_heap = nums\n",
    "        heapq.heapify(self.min_heap)\n",
    "\n",
    "        # k개까지만 남기고 나머지는 제거\n",
    "        while len(self.min_heap) > k:\n",
    "            heapq.heappop(self.min_heap)\n",
    "\n",
    "    def add(self, val: int) -> int:\n",
    "        heapq.heappush(self.min_heap, val)\n",
    "        \n",
    "        # k개 초과되면 최소값 제거\n",
    "        if len(self.min_heap) > self.k:\n",
    "            heapq.heappop(self.min_heap)\n",
    "\n",
    "        return self.min_heap[0]\n",
    "\n",
    "kth = KthLargest(3, [4, 5, 8, 2])\n",
    "print(kth.add(3))  # 4\n",
    "print(kth.add(5))  # 5\n",
    "print(kth.add(10)) # 5\n",
    "print(kth.add(9))  # 8\n",
    "print(kth.add(4))  # 8"
   ]
  }
 ],
 "metadata": {
  "kernelspec": {
   "display_name": "Python 3 (ipykernel)",
   "language": "python",
   "name": "python3"
  },
  "language_info": {
   "codemirror_mode": {
    "name": "ipython",
    "version": 3
   },
   "file_extension": ".py",
   "mimetype": "text/x-python",
   "name": "python",
   "nbconvert_exporter": "python",
   "pygments_lexer": "ipython3",
   "version": "3.12.7"
  }
 },
 "nbformat": 4,
 "nbformat_minor": 5
}
